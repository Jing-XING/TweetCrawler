{
 "cells": [
  {
   "cell_type": "code",
   "execution_count": 0,
   "metadata": {
    "collapsed": true,
    "ExecuteTime": {
     "start_time": "2023-11-12T20:59:49.634546Z",
     "end_time": "2023-11-12T20:59:49.658604Z"
    }
   },
   "outputs": [],
   "source": [
    "import time\n",
    "from selenium import webdriver\n",
    "from utils import *\n",
    "import json"
   ]
  },
  {
   "cell_type": "markdown",
   "source": [
    "## set your twitter name, password,the time span and objective name for advanced serach"
   ],
   "metadata": {
    "collapsed": false
   }
  },
  {
   "cell_type": "code",
   "execution_count": 15,
   "outputs": [],
   "source": [
    "twi_username = \"\"\n",
    "twi_keyword = \"\"\n",
    "sinceTime=\"2023-10-01\"\n",
    "untilTime=\"2023-10-31\"\n",
    "loginURL=r'https://twitter.com/i/flow/login'\n",
    "obj_name=r\"elonmusk\""
   ],
   "metadata": {
    "collapsed": false
   }
  },
  {
   "cell_type": "markdown",
   "source": [
    "## log in twitter"
   ],
   "metadata": {
    "collapsed": false
   }
  },
  {
   "cell_type": "code",
   "execution_count": 2,
   "outputs": [
    {
     "name": "stderr",
     "output_type": "stream",
     "text": [
      "C:\\Users\\xj\\AppData\\Local\\Temp\\ipykernel_27852\\3830408383.py:1: DeprecationWarning: executable_path has been deprecated, please pass in a Service object\n",
      "  browser = webdriver.Chrome(executable_path=r\"D:\\software\\chromedriver-win64\\chromedriver.exe\")\n"
     ]
    }
   ],
   "source": [
    "browser = webdriver.Chrome(executable_path=r\"D:\\software\\chromedriver-win64\\chromedriver.exe\")\n",
    "browser.get(loginURL)\n",
    "#这里睡几秒，等待页面加载。\n",
    "time.sleep(5)\n",
    "browser.find_element(\"xpath\",\"//*[@id=\\\"layers\\\"]/div/div/div/div/div/div/div[2]/div[2]/div/div/div[2]/div[2]/div/div/div/div[5]/label/div/div[2]/div/input\").send_keys(twi_username)\n",
    "time.sleep(3)\n",
    "browser.find_element(\"xpath\",\"//*[@id=\\\"layers\\\"]/div/div/div/div/div/div/div[2]/div[2]/div/div/div[2]/div[2]/div/div/div/div[6]/div\").click()\n",
    "time.sleep(2)\n",
    "browser.find_element(\"xpath\",\"//*[@id=\\\"layers\\\"]/div/div/div/div/div/div/div[2]/div[2]/div/div/div[2]/div[2]/div[1]/div/div/div[3]/div/label/div/div[2]/div[1]/input\").send_keys(twi_keyword)\n",
    "browser.find_element(\"xpath\",\"//*[@id=\\\"layers\\\"]/div/div/div/div/div/div/div[2]/div[2]/div/div/div[2]/div[2]/div[2]/div/div[1]/div/div/div/div/span/span\").click()\n",
    "time.sleep(2)\n",
    "# #使用这个函数可以导出browser的cookies\n",
    "# savedCookies = browser.get_cookies()"
   ],
   "metadata": {
    "collapsed": false,
    "ExecuteTime": {
     "start_time": "2023-11-12T20:44:45.849105Z",
     "end_time": "2023-11-12T20:45:03.609944Z"
    }
   }
  },
  {
   "cell_type": "markdown",
   "source": [
    "## Set advanced search command"
   ],
   "metadata": {
    "collapsed": false
   }
  },
  {
   "cell_type": "code",
   "execution_count": 16,
   "outputs": [],
   "source": [
    "#advanced search command\n",
    "advSearchComand=fr'https://twitter.com/search?q=from%3A{obj_name}%20until%3A{untilTime}%20since%3A{sinceTime}%20-filter%3Areplies&src=typed_query'"
   ],
   "metadata": {
    "collapsed": false,
    "ExecuteTime": {
     "start_time": "2023-11-12T20:59:55.077082Z",
     "end_time": "2023-11-12T20:59:55.094080Z"
    }
   }
  },
  {
   "cell_type": "markdown",
   "source": [
    "## scrapping"
   ],
   "metadata": {
    "collapsed": false
   }
  },
  {
   "cell_type": "code",
   "execution_count": 17,
   "outputs": [],
   "source": [
    "res=scrap(twi_username,sinceTime,untilTime,browser,advSearchComand)\n",
    "filenamejs=f\"{sinceTime}_{untilTime}_{obj_name}.json\"\n",
    "with open(filenamejs, 'w', encoding='utf-8') as file:\n",
    "    json.dump(res, file, ensure_ascii=False, indent=2)"
   ],
   "metadata": {
    "collapsed": false,
    "ExecuteTime": {
     "start_time": "2023-11-12T20:59:57.577721Z",
     "end_time": "2023-11-12T21:00:29.836307Z"
    }
   }
  },
  {
   "cell_type": "code",
   "execution_count": 11,
   "outputs": [],
   "source": [
    "##for long time spans,split time spans monthly\n",
    "# finalres=[]\n",
    "# sinceList,untilList=splitTime(sinceTime,untilTime)\n",
    "# for i in range(len(sinceList)):\n",
    "#     since_time=sinceList[i]\n",
    "#     until_time=untilList[i]\n",
    "#     res=scrap(twi_username,since_time,until_time,browser)\n",
    "#     finalres+=res"
   ],
   "metadata": {
    "collapsed": false,
    "ExecuteTime": {
     "start_time": "2023-11-12T20:52:15.769524Z",
     "end_time": "2023-11-12T20:52:15.788531Z"
    }
   }
  },
  {
   "cell_type": "code",
   "execution_count": null,
   "outputs": [],
   "source": [],
   "metadata": {
    "collapsed": false
   }
  },
  {
   "cell_type": "code",
   "execution_count": null,
   "outputs": [],
   "source": [],
   "metadata": {
    "collapsed": false
   }
  },
  {
   "cell_type": "code",
   "execution_count": null,
   "outputs": [],
   "source": [],
   "metadata": {
    "collapsed": false
   }
  }
 ],
 "metadata": {
  "kernelspec": {
   "display_name": "Python 3",
   "language": "python",
   "name": "python3"
  },
  "language_info": {
   "codemirror_mode": {
    "name": "ipython",
    "version": 2
   },
   "file_extension": ".py",
   "mimetype": "text/x-python",
   "name": "python",
   "nbconvert_exporter": "python",
   "pygments_lexer": "ipython2",
   "version": "2.7.6"
  }
 },
 "nbformat": 4,
 "nbformat_minor": 0
}
