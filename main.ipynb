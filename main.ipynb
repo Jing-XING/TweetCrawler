{
 "cells": [
  {
   "cell_type": "code",
   "execution_count": 8,
   "metadata": {
    "collapsed": true,
    "ExecuteTime": {
     "start_time": "2023-11-12T21:49:52.821323Z",
     "end_time": "2023-11-12T21:49:52.838429Z"
    }
   },
   "outputs": [],
   "source": [
    "\n",
    "from utils import *\n",
    "import json\n",
    "from selenium import webdriver\n",
    "from selenium.webdriver.chrome.service import Service"
   ]
  },
  {
   "cell_type": "markdown",
   "source": [
    "## set your twitter name, password,the time span and objective name for advanced serach"
   ],
   "metadata": {
    "collapsed": false
   }
  },
  {
   "cell_type": "code",
   "execution_count": 9,
   "outputs": [],
   "source": [
    "twi_username =\n",
    "twi_keyword =\n",
    "sinceTime=\"2023-10-01\"\n",
    "untilTime=\"2023-10-31\"\n",
    "loginURL=r'https://twitter.com/i/flow/login'\n",
    "obj_name=r\"elonmusk\"\n",
    "chromdriverPath=\n"
   ],
   "metadata": {
    "collapsed": false,
    "ExecuteTime": {
     "start_time": "2023-11-12T21:49:53.106724Z",
     "end_time": "2023-11-12T21:49:53.120723Z"
    }
   }
  },
  {
   "cell_type": "markdown",
   "source": [
    "## log in twitter"
   ],
   "metadata": {
    "collapsed": false
   }
  },
  {
   "cell_type": "code",
   "execution_count": 10,
   "outputs": [],
   "source": [
    "s = Service(chromdriverPath)\n",
    "browser = webdriver.Chrome(service=s)\n",
    "browser.get(loginURL)\n",
    "time.sleep(5)\n",
    "browser.find_element(\"xpath\",\"//*[@id=\\\"layers\\\"]/div/div/div/div/div/div/div[2]/div[2]/div/div/div[2]/div[2]/div/div/div/div[5]/label/div/div[2]/div/input\").send_keys(twi_username)\n",
    "time.sleep(3)\n",
    "browser.find_element(\"xpath\",\"//*[@id=\\\"layers\\\"]/div/div/div/div/div/div/div[2]/div[2]/div/div/div[2]/div[2]/div/div/div/div[6]/div\").click()\n",
    "time.sleep(2)\n",
    "browser.find_element(\"xpath\",\"//*[@id=\\\"layers\\\"]/div/div/div/div/div/div/div[2]/div[2]/div/div/div[2]/div[2]/div[1]/div/div/div[3]/div/label/div/div[2]/div[1]/input\").send_keys(twi_keyword)\n",
    "browser.find_element(\"xpath\",\"//*[@id=\\\"layers\\\"]/div/div/div/div/div/div/div[2]/div[2]/div/div/div[2]/div[2]/div[2]/div/div[1]/div/div/div/div/span/span\").click()\n",
    "time.sleep(2)\n",
    "# #for using cookies to login\n",
    "# savedCookies = browser.get_cookies()"
   ],
   "metadata": {
    "collapsed": false,
    "ExecuteTime": {
     "start_time": "2023-11-12T21:49:53.926895Z",
     "end_time": "2023-11-12T21:50:13.316761Z"
    }
   }
  },
  {
   "cell_type": "markdown",
   "source": [
    "## Set advanced search command"
   ],
   "metadata": {
    "collapsed": false
   }
  },
  {
   "cell_type": "code",
   "execution_count": 11,
   "outputs": [],
   "source": [
    "#advanced search command\n",
    "advSearchComand=fr'https://twitter.com/search?q=from%3A{obj_name}%20until%3A{untilTime}%20since%3A{sinceTime}%20-filter%3Areplies&src=typed_query'"
   ],
   "metadata": {
    "collapsed": false,
    "ExecuteTime": {
     "start_time": "2023-11-12T21:50:31.141004Z",
     "end_time": "2023-11-12T21:50:31.158683Z"
    }
   }
  },
  {
   "cell_type": "markdown",
   "source": [
    "## scrapping"
   ],
   "metadata": {
    "collapsed": false
   }
  },
  {
   "cell_type": "code",
   "execution_count": 12,
   "outputs": [],
   "source": [
    "res=scrap(twi_username,sinceTime,untilTime,browser,advSearchComand)\n",
    "filenamejs=f\"{sinceTime}_{untilTime}_{obj_name}.json\"\n",
    "with open(filenamejs, 'w', encoding='utf-8') as file:\n",
    "    json.dump(res, file, ensure_ascii=False, indent=2)"
   ],
   "metadata": {
    "collapsed": false,
    "ExecuteTime": {
     "start_time": "2023-11-12T21:50:35.674415Z",
     "end_time": "2023-11-12T21:51:04.578581Z"
    }
   }
  },
  {
   "cell_type": "code",
   "execution_count": 11,
   "outputs": [],
   "source": [
    "##for long time spans,split time spans monthly\n",
    "# finalres=[]\n",
    "# sinceList,untilList=splitTime(sinceTime,untilTime)\n",
    "# for i in range(len(sinceList)):\n",
    "#     since_time=sinceList[i]\n",
    "#     until_time=untilList[i]\n",
    "#     res=scrap(twi_username,since_time,until_time,browser)\n",
    "#     finalres+=res"
   ],
   "metadata": {
    "collapsed": false,
    "ExecuteTime": {
     "start_time": "2023-11-12T20:52:15.769524Z",
     "end_time": "2023-11-12T20:52:15.788531Z"
    }
   }
  },
  {
   "cell_type": "code",
   "execution_count": 13,
   "outputs": [
    {
     "data": {
      "text/plain": "['',\n 'I would like to buy a license for my fish',\n 'The great wakening from woke has happened. This is good for civilization.',\n 'The word “cis” is a heterosexual slur. Shame on anyone who uses it.',\n 'Freedom',\n 'In 𝕏 S',\n 'It’s raining, it’s pouring …',\n 'Can you beat hatred without a malignant heart?',\n 'SpaceX launching Falcon9',\n 'The way to beat hatred is friendship',\n 'Interesting',\n 'ComStar Interdict',\n 'The articles printed in newspapers are quite literally yesterday’s news',\n 'Maybe time’s just a construct of human perception. An illusion created by …',\n 'Priests are being imprisoned?',\n 'Posting this to my main timeline so more people see it',\n 'Wise words indeed',\n 'Good progress',\n 'Sleeper agent',\n 'Starlink Version 2 orbital deploy',\n 'Two new tiers of X Premium subscriptions launching soon. \\n\\nOne is lower cost with all features, but no reduction in ads, and the other is more expensive, but has no ads.',\n 'This book is an excellent explanation of why capitalism is not just successful, but morally right, especially chapter 4',\n 'Making a slight change to creator monetization: \\n\\nAny posts that are corrected by \\n@CommunityNotes\\n become ineligible for revenue share.\\n\\nThe idea is to maximize the incentive for accuracy over sensationalism.',\n 'The \\n@SphereVegas\\n is exquisite beyond words',\n 'Join us for this discussion of the state of war in the world']"
     },
     "execution_count": 13,
     "metadata": {},
     "output_type": "execute_result"
    }
   ],
   "source": [
    "res"
   ],
   "metadata": {
    "collapsed": false,
    "ExecuteTime": {
     "start_time": "2023-11-12T21:51:04.579582Z",
     "end_time": "2023-11-12T21:51:04.639353Z"
    }
   }
  }
 ],
 "metadata": {
  "kernelspec": {
   "display_name": "Python 3",
   "language": "python",
   "name": "python3"
  },
  "language_info": {
   "codemirror_mode": {
    "name": "ipython",
    "version": 2
   },
   "file_extension": ".py",
   "mimetype": "text/x-python",
   "name": "python",
   "nbconvert_exporter": "python",
   "pygments_lexer": "ipython2",
   "version": "2.7.6"
  }
 },
 "nbformat": 4,
 "nbformat_minor": 0
}
